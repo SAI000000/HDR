{
  "cells": [
    {
      "cell_type": "markdown",
      "id": "1e3768ea",
      "metadata": {
        "id": "1e3768ea"
      },
      "source": [
        "# Handwritten Digit Recognition using CSV MNIST Dataset"
      ]
    },
    {
      "cell_type": "code",
      "execution_count": 1,
      "id": "cffd255f",
      "metadata": {
        "id": "cffd255f"
      },
      "outputs": [],
      "source": [
        "import numpy as np\n",
        "import pandas as pd\n",
        "import matplotlib.pyplot as plt\n",
        "from tensorflow.keras.models import Sequential\n",
        "from tensorflow.keras.layers import Dense\n",
        "from tensorflow.keras.utils import to_categorical"
      ]
    },
    {
      "cell_type": "markdown",
      "id": "4cbafc40",
      "metadata": {
        "id": "4cbafc40"
      },
      "source": [
        "## Load CSV Files"
      ]
    },
    {
      "cell_type": "code",
      "execution_count": 2,
      "id": "7cc86b49",
      "metadata": {
        "id": "7cc86b49"
      },
      "outputs": [],
      "source": [
        "train_df = pd.read_csv(\"mnist_train.csv\")\n",
        "test_df = pd.read_csv(\"mnist_test.csv\")"
      ]
    },
    {
      "cell_type": "markdown",
      "id": "48b2919d",
      "metadata": {
        "id": "48b2919d"
      },
      "source": [
        "## Preprocess the Data"
      ]
    },
    {
      "cell_type": "code",
      "execution_count": 3,
      "id": "953b8f10",
      "metadata": {
        "id": "953b8f10"
      },
      "outputs": [],
      "source": [
        "x_train = train_df.iloc[:, 1:].values / 255.0\n",
        "y_train = to_categorical(train_df.iloc[:, 0].values)\n",
        "\n",
        "x_test = test_df.iloc[:, 1:].values / 255.0\n",
        "y_test = to_categorical(test_df.iloc[:, 0].values)"
      ]
    },
    {
      "cell_type": "markdown",
      "id": "2548bd77",
      "metadata": {
        "id": "2548bd77"
      },
      "source": [
        "## Build and Compile the Model"
      ]
    },
    {
      "cell_type": "code",
      "execution_count": 4,
      "id": "89231671",
      "metadata": {
        "colab": {
          "base_uri": "https://localhost:8080/"
        },
        "id": "89231671",
        "outputId": "a4830b7c-69c2-487d-9ad4-6340af84f7c2"
      },
      "outputs": [
        {
          "output_type": "stream",
          "name": "stderr",
          "text": [
            "/usr/local/lib/python3.11/dist-packages/keras/src/layers/core/dense.py:87: UserWarning: Do not pass an `input_shape`/`input_dim` argument to a layer. When using Sequential models, prefer using an `Input(shape)` object as the first layer in the model instead.\n",
            "  super().__init__(activity_regularizer=activity_regularizer, **kwargs)\n"
          ]
        }
      ],
      "source": [
        "model = Sequential([\n",
        "    Dense(128, activation='relu', input_shape=(784,)),\n",
        "    Dense(64, activation='relu'),\n",
        "    Dense(10, activation='softmax')\n",
        "])\n",
        "\n",
        "model.compile(optimizer='adam', loss='categorical_crossentropy', metrics=['accuracy'])"
      ]
    },
    {
      "cell_type": "markdown",
      "id": "3ded9f53",
      "metadata": {
        "id": "3ded9f53"
      },
      "source": [
        "## Train the Model"
      ]
    },
    {
      "cell_type": "code",
      "execution_count": 5,
      "id": "de961c30",
      "metadata": {
        "colab": {
          "base_uri": "https://localhost:8080/"
        },
        "id": "de961c30",
        "outputId": "49b8255d-841c-44bb-b751-b568ba664cec"
      },
      "outputs": [
        {
          "output_type": "stream",
          "name": "stdout",
          "text": [
            "Epoch 1/5\n",
            "\u001b[1m258/258\u001b[0m \u001b[32m━━━━━━━━━━━━━━━━━━━━\u001b[0m\u001b[37m\u001b[0m \u001b[1m3s\u001b[0m 8ms/step - accuracy: 0.7067 - loss: 1.0078 - val_accuracy: 0.9016 - val_loss: nan\n",
            "Epoch 2/5\n",
            "\u001b[1m258/258\u001b[0m \u001b[32m━━━━━━━━━━━━━━━━━━━━\u001b[0m\u001b[37m\u001b[0m \u001b[1m2s\u001b[0m 6ms/step - accuracy: 0.9352 - loss: 0.2261 - val_accuracy: 0.9201 - val_loss: nan\n",
            "Epoch 3/5\n",
            "\u001b[1m258/258\u001b[0m \u001b[32m━━━━━━━━━━━━━━━━━━━━\u001b[0m\u001b[37m\u001b[0m \u001b[1m1s\u001b[0m 4ms/step - accuracy: 0.9527 - loss: 0.1619 - val_accuracy: 0.9234 - val_loss: nan\n",
            "Epoch 4/5\n",
            "\u001b[1m258/258\u001b[0m \u001b[32m━━━━━━━━━━━━━━━━━━━━\u001b[0m\u001b[37m\u001b[0m \u001b[1m1s\u001b[0m 5ms/step - accuracy: 0.9682 - loss: 0.1095 - val_accuracy: 0.9297 - val_loss: nan\n",
            "Epoch 5/5\n",
            "\u001b[1m258/258\u001b[0m \u001b[32m━━━━━━━━━━━━━━━━━━━━\u001b[0m\u001b[37m\u001b[0m \u001b[1m1s\u001b[0m 5ms/step - accuracy: 0.9750 - loss: 0.0808 - val_accuracy: 0.9293 - val_loss: nan\n"
          ]
        },
        {
          "output_type": "execute_result",
          "data": {
            "text/plain": [
              "<keras.src.callbacks.history.History at 0x7955f4f7b290>"
            ]
          },
          "metadata": {},
          "execution_count": 5
        }
      ],
      "source": [
        "model.fit(x_train, y_train, epochs=5, batch_size=32, validation_split=0.2)"
      ]
    },
    {
      "cell_type": "markdown",
      "id": "25341156",
      "metadata": {
        "id": "25341156"
      },
      "source": [
        "## Evaluate the Model"
      ]
    },
    {
      "cell_type": "code",
      "execution_count": 6,
      "id": "b39c4ac9",
      "metadata": {
        "colab": {
          "base_uri": "https://localhost:8080/"
        },
        "id": "b39c4ac9",
        "outputId": "51b6b2ab-acda-4a1f-8350-44f2d1bb8949"
      },
      "outputs": [
        {
          "output_type": "stream",
          "name": "stdout",
          "text": [
            "\u001b[1m313/313\u001b[0m \u001b[32m━━━━━━━━━━━━━━━━━━━━\u001b[0m\u001b[37m\u001b[0m \u001b[1m1s\u001b[0m 2ms/step - accuracy: 0.9297 - loss: 0.2231\n",
            "Test Accuracy: 0.9391\n"
          ]
        }
      ],
      "source": [
        "loss, accuracy = model.evaluate(x_test, y_test)\n",
        "print(f\"Test Accuracy: {accuracy:.4f}\")"
      ]
    },
    {
      "cell_type": "markdown",
      "id": "81643aa2",
      "metadata": {
        "id": "81643aa2"
      },
      "source": [
        "## Predict and Visualize Results"
      ]
    },
    {
      "cell_type": "code",
      "execution_count": 7,
      "id": "5badf394",
      "metadata": {
        "colab": {
          "base_uri": "https://localhost:8080/",
          "height": 357
        },
        "id": "5badf394",
        "outputId": "fdc81012-d740-4780-bdb5-a45c28aab334"
      },
      "outputs": [
        {
          "output_type": "stream",
          "name": "stdout",
          "text": [
            "\u001b[1m313/313\u001b[0m \u001b[32m━━━━━━━━━━━━━━━━━━━━\u001b[0m\u001b[37m\u001b[0m \u001b[1m1s\u001b[0m 2ms/step\n"
          ]
        },
        {
          "output_type": "display_data",
          "data": {
            "text/plain": [
              "<Figure size 1000x500 with 10 Axes>"
            ],
            "image/png": "[encoded data removed]"
          },
          "metadata": {}
        }
      ],
      "source": [
        "predictions = model.predict(x_test)\n",
        "predicted_labels = np.argmax(predictions, axis=1)\n",
        "true_labels = np.argmax(y_test, axis=1)\n",
        "\n",
        "plt.figure(figsize=(10, 5))\n",
        "for i in range(10):\n",
        "    image = x_test[i].reshape(28, 28)\n",
        "    plt.subplot(2, 5, i + 1)\n",
        "    plt.imshow(image, cmap='gray')\n",
        "    plt.title(f\"True: {true_labels[i]}\\nPred: {predicted_labels[i]}\")\n",
        "    plt.axis('off')\n",
        "plt.tight_layout()\n",
        "plt.show()"
      ]
    },
    {
      "cell_type": "code",
      "execution_count": null,
      "id": "7257bf74-e991-49ec-a414-3db2eef99217",
      "metadata": {
        "id": "7257bf74-e991-49ec-a414-3db2eef99217"
      },
      "outputs": [],
      "source": []
    }
  ],
  "metadata": {
    "kernelspec": {
      "display_name": "Python 3 (ipykernel)",
      "language": "python",
      "name": "python3"
    },
    "language_info": {
      "codemirror_mode": {
        "name": "ipython",
        "version": 3
      },
      "file_extension": ".py",
      "mimetype": "text/x-python",
      "name": "python",
      "nbconvert_exporter": "python",
      "pygments_lexer": "ipython3",
      "version": "3.12.4"
    },
    "colab": {
      "provenance": []
    }
  },
  "nbformat": 4,
  "nbformat_minor": 5
}